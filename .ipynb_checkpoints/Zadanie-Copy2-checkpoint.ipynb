{
 "cells": [
  {
   "cell_type": "code",
   "execution_count": 14,
   "metadata": {},
   "outputs": [],
   "source": [
    "import csv, string\n",
    "from collections import Counter\n",
    "\n",
    "filename = 'data.csv'\n",
    "\n",
    "rows = []\n",
    "prog_lang_loc = ['javascript,10001','swift,10475','python,10750','java,11462','c++,12090','ruby,12631','rust,13303','c,13624','scala,14288','r,14819','go,15192','mathematica,15859','kotlin,16489','fortran,17106','julia,17565','php,18026','matlab,18380','haskell,18711','perl,19360']\n",
    "langs = ['javascript','swift','python','java','c++','ruby','rust','c','scala','r','go','mathematica','kotlin','fortran','julia','php','matlab','haskell','perl']\n",
    "index_list = []\n",
    "\n",
    "with open(filename, 'r', encoding=\"utf8\") as csvfile:\n",
    "    \n",
    "    csvreader = csv.reader(csvfile)\n",
    "    \n",
    "    for row in csvreader:\n",
    "        rows.append(row)"
   ]
  },
  {
   "cell_type": "code",
   "execution_count": 15,
   "metadata": {},
   "outputs": [],
   "source": [
    "#cleared_rows = map(lambda row: row.replace(',',''), rows)\n",
    "cleared_rows = [x.replace(';', '') for row in rows for x in row] #usunięcie znaków\n",
    "cleared_rows = list(map(lambda s: s.strip(), cleared_rows)) #usunięcie znaków nowego wiersza \n",
    "cleared_rows = list(filter(None, cleared_rows)) #usunięcie pustych elementów\n",
    "cleared_rows = list(map(lambda s: s.lower(), cleared_rows)) #małe litery"
   ]
  },
  {
   "cell_type": "code",
   "execution_count": 16,
   "metadata": {},
   "outputs": [],
   "source": [
    "for lang in prog_lang_loc:\n",
    "    for row in cleared_rows:\n",
    "        if lang in row:\n",
    "            index_list.append(cleared_rows.index(row))\n",
    "            break"
   ]
  },
  {
   "cell_type": "code",
   "execution_count": null,
   "metadata": {},
   "outputs": [],
   "source": []
  },
  {
   "cell_type": "code",
   "execution_count": 17,
   "metadata": {},
   "outputs": [],
   "source": [
    "lang_dict = {} # słownik z kodem danego języka\n",
    "\n",
    "for lang in langs:\n",
    "    if langs.index(lang) < len(langs) - 1: \n",
    "        lang_dict[lang] = cleared_rows[index_list[langs.index(lang)]:index_list[langs.index(lang) + 1]]\n",
    "    else:\n",
    "        lang_dict[lang] = cleared_rows[index_list[langs.index(lang)]:]"
   ]
  },
  {
   "cell_type": "code",
   "execution_count": 18,
   "metadata": {},
   "outputs": [],
   "source": [
    "lang_dict_clear = {} #słownik z kodem danego języko uporządkowany\n",
    "\n",
    "for lang in langs:\n",
    "    lang_dict[lang] = [''.join(x for x in par if x not in string.punctuation) for par in lang_dict[lang]]\n",
    "    lang_dict[lang] = [element for element in lang_dict[lang] if not element.isdigit()]\n",
    "    new = []\n",
    "    for element in lang_dict[lang]:\n",
    "        for x in (element.split()):\n",
    "            new.append(x)\n",
    "    \n",
    "    lang_dict_clear[lang] = new\n",
    "       "
   ]
  },
  {
   "cell_type": "code",
   "execution_count": 19,
   "metadata": {},
   "outputs": [],
   "source": [
    "all_words = Counter()\n",
    "\n",
    "for lang in langs:\n",
    "    for word in lang_dict_clear[lang]:\n",
    "        all_words[word] += 1"
   ]
  },
  {
   "cell_type": "code",
   "execution_count": 26,
   "metadata": {},
   "outputs": [],
   "source": [
    "# Training set \n",
    "\n",
    "training_dict = dict.fromkeys(lang_dict_clear.keys(),[]) #słownik z tymi samymi kluczami \n",
    "for key in training_dict:\n",
    "   \n",
    "    training_dict[key] = lang_dict_clear[key][:(int(len(lang_dict_clear[key])*0.75))] #Podzielenie słownika każdego z języków w proporcji 0.25:0.75:"
   ]
  },
  {
   "cell_type": "code",
   "execution_count": null,
   "metadata": {},
   "outputs": [],
   "source": []
  },
  {
   "cell_type": "code",
   "execution_count": null,
   "metadata": {},
   "outputs": [],
   "source": []
  },
  {
   "cell_type": "code",
   "execution_count": null,
   "metadata": {},
   "outputs": [],
   "source": []
  },
  {
   "cell_type": "code",
   "execution_count": null,
   "metadata": {},
   "outputs": [],
   "source": []
  },
  {
   "cell_type": "code",
   "execution_count": null,
   "metadata": {},
   "outputs": [],
   "source": []
  },
  {
   "cell_type": "code",
   "execution_count": 182,
   "metadata": {},
   "outputs": [],
   "source": []
  },
  {
   "cell_type": "code",
   "execution_count": null,
   "metadata": {},
   "outputs": [],
   "source": []
  },
  {
   "cell_type": "code",
   "execution_count": null,
   "metadata": {},
   "outputs": [],
   "source": []
  },
  {
   "cell_type": "code",
   "execution_count": null,
   "metadata": {},
   "outputs": [],
   "source": []
  }
 ],
 "metadata": {
  "kernelspec": {
   "display_name": "Python 3",
   "language": "python",
   "name": "python3"
  },
  "language_info": {
   "codemirror_mode": {
    "name": "ipython",
    "version": 3
   },
   "file_extension": ".py",
   "mimetype": "text/x-python",
   "name": "python",
   "nbconvert_exporter": "python",
   "pygments_lexer": "ipython3",
   "version": "3.6.5"
  }
 },
 "nbformat": 4,
 "nbformat_minor": 2
}
