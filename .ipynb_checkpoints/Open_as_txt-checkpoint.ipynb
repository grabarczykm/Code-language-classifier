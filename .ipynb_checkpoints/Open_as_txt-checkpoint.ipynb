{
 "cells": [
  {
   "cell_type": "code",
   "execution_count": 23,
   "metadata": {},
   "outputs": [
    {
     "name": "stdout",
     "output_type": "stream",
     "text": [
      "['language,proj_id,file_id,file_body', '\"javascript,10001,100001,\"\"//', 'functions', 'as', 'values', 'of', 'a', 'variable\"', 'var', 'cube', '=', 'x', '=>', 'math.pow(x,', '3)', 'var', 'cuberoot', '=', 'x', '=>', 'math.pow(x,', '1', '/', '3)', '//', 'higher', 'order', 'function', 'var', 'compose', '=', '(f,', 'g)', '=>', '(x', '=>', 'f(g(x)))', '//', 'storing', 'functions', 'in', 'a', 'array', 'var', 'fun', '=', '[', 'math.sin,', 'math.cos,', 'cube', ']', 'var', 'inv', '=', '[', 'math.asin,', 'math.acos,', 'cuberoot', ']', 'for', '(var', 'i', '=', '0', 'i', '<', '3', 'i++)', '{', '//', 'applying', 'the', 'composition', 'to', '0.5', 'console.log(compose(inv[i],', 'fun[i])(0.5))', '}', '\"', 'javascript,10001,100002,//', 'functions', 'as', 'values', 'of', 'a', 'variable\"', 'var', 'cube', '=', 'function', '(x)', '{', 'return', 'math.pow(x,', '3)', '}', 'var', 'cuberoot', '=', 'function', '(x)', '{', 'return', 'math.pow(x,', '1', '/', '3)', '}', '//', 'higher', 'order', 'function', 'var', 'compose', '=', 'function', '(f,', 'g)', '{', 'return', 'function', '(x)', '{', 'return', 'f(g(x))', '}', '}', '//', 'storing', 'functions', 'in', 'a', 'array', 'var', 'fun', '=', '[math.sin,', 'math.cos,', 'cube]', 'var', 'inv', '=', '[math.asin,', 'math.acos,', 'cuberoot]', 'for', '(var', 'i', '=', '0', 'i', '<', '3', 'i++)', '{', '//', 'applying', 'the', 'composition', 'to', '0.5', 'console.log(compose(inv[i],', 'fun[i])(0.5))', '}', '\"', 'javascript,10002,100003,function', 'median(ary)', '{\"', 'if', '(ary.length', '==', '0)', 'return', 'null', 'ary.sort(function', '(a,b){return', 'a', '-', 'b})', 'var', 'mid', '=', 'math.floor(ary.length', '/', '2)', 'if', '((ary.length', '%', '2)', '==', '1)', '//', 'length', 'is', 'odd', 'return', 'ary[mid]', 'else', 'return', '(ary[mid', '-', '1]', '+', 'ary[mid])', '/', '2', '}', 'median([])', '//', 'null', 'median([5,3,4])', '//', '4', 'median([5,4,2,3])', '//', '3.5', 'median([3,4,1,-8.4,7.2,4,1,1.2])', '//', '2.1', '\"', 'javascript,10002,100004,[\"', 'null,', '4', '3.5,', '2.1', ']', '\"', 'javascript,10002,100005,(()', '=>', '{\"', \"'use\", \"strict'\", '//', 'median', '::', '[num]', '->', 'num', 'function', 'median(xs)', '{', '//', 'nth', '::', '[num]', '->', 'int', '->', 'maybe', 'num', 'let', 'nth', '=', '(xxs,', 'n)', '=>', '{', 'if', '(xxs.length', '>', '0)', '{', 'let', '[x,', 'xs]', '=', 'uncons(xxs),', '[ys,', 'zs]', '=', 'partition(y', '=>', 'y', '<', 'x,', 'xs),', 'k', '=', 'ys.length', 'return', 'k', '===', 'n', '?', 'x', ':', '(', 'k', '>', 'n', '?', 'nth(ys,', 'n)', ':', 'nth(zs,', 'n', '-', 'k', '-', '1)']\n"
     ]
    }
   ],
   "source": [
    "filename = 'data.txt'\n",
    "file_object = open(filename, 'r', encoding=\"utf-16\")\n",
    "\n",
    "words = file_object.read().split()\n",
    "words = list(map(lambda s: s.lower(), words))\n",
    "\n",
    "prog_lang_loc = ['javascript,10001','swift,10475','python,10750','java,11462','c++,12090','ruby,12631','rust,13303','c,13624','scala,14288','r,14819','go,15192','mathematica,15859','kotlin,16489','fortran,17106','julia,17565','php,18026','matlab,18380','haskell,18711','perl,19360']\n",
    "langs = ['javascript','swift','python','java','c++','ruby','rust','c','scala','r','go','mathematica','kotlin','fortran','julia','php','matlab','haskell','perl']\n",
    "index_list = []\n",
    "\n",
    "\n",
    "print(words[:50)\n",
    "for lang in prog_lang_loc:\n",
    "    for word in words:\n",
    "        if lang in word:\n",
    "            index_list.append(words.index(word))\n",
    "            break\n",
    "\n",
    "train_dict = {} # słownik treningowy, z podziałem na języki \n",
    "\n",
    "for lang in langs:\n",
    "    if langs.index(lang) < len(langs) - 1: \n",
    "        train_dict[lang] = words[index_list[langs.index(lang)]:index_list[langs.index(lang) + 1]]\n",
    "    else:\n",
    "        train_dict[lang] = words[index_list[langs.index(lang)]:]\n",
    "        \n",
    "for word in words:\n",
    "    word.split()\n",
    "print(words[:300])"
   ]
  },
  {
   "cell_type": "code",
   "execution_count": null,
   "metadata": {},
   "outputs": [],
   "source": []
  },
  {
   "cell_type": "code",
   "execution_count": null,
   "metadata": {},
   "outputs": [],
   "source": []
  }
 ],
 "metadata": {
  "kernelspec": {
   "display_name": "Python 3",
   "language": "python",
   "name": "python3"
  },
  "language_info": {
   "codemirror_mode": {
    "name": "ipython",
    "version": 3
   },
   "file_extension": ".py",
   "mimetype": "text/x-python",
   "name": "python",
   "nbconvert_exporter": "python",
   "pygments_lexer": "ipython3",
   "version": "3.6.5"
  }
 },
 "nbformat": 4,
 "nbformat_minor": 2
}
