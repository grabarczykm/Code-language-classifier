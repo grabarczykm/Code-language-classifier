{
 "cells": [
  {
   "cell_type": "code",
   "execution_count": 66,
   "metadata": {},
   "outputs": [],
   "source": [
    "import csv \n",
    "\n",
    "filename = 'data.csv'\n",
    "\n",
    "rows = []\n",
    "prog_lang_loc = ['javascript,10001','swift,10475','python,10750','java,11462','c++,12090','ruby,12631','rust,13303','c,13624','scala,14288','r,14819','go,15192','mathematica,15859','kotlin,16489','fortran,17106','julia,17565','php,18026','matlab,18380','haskell,18711','perl,19360']\n",
    "langs = ['javascript','swift','python','java','c++','ruby','rust','c','scala','r','go','mathematica','kotlin','fortran','julia','php','matlab','haskell','perl']\n",
    "index_list = []\n",
    "\n",
    "with open(filename, 'r', encoding=\"utf8\") as csvfile:\n",
    "    \n",
    "    csvreader = csv.reader(csvfile)\n",
    "    \n",
    "    for row in csvreader:\n",
    "        rows.append(row)"
   ]
  },
  {
   "cell_type": "code",
   "execution_count": 67,
   "metadata": {},
   "outputs": [],
   "source": [
    "#cleared_rows = map(lambda row: row.replace(',',''), rows)\n",
    "cleared_rows = [x.replace(';', '') for row in rows for x in row] #usunięcie znaków\n",
    "cleared_rows = list(map(lambda s: s.strip(), cleared_rows)) #usunięcie znaków nowego wiersza \n",
    "cleared_rows = list(filter(None, cleared_rows)) #usunięcie pustych elementów\n",
    "cleared_rows = list(map(lambda s: s.lower(), cleared_rows)) #małe litery"
   ]
  },
  {
   "cell_type": "code",
   "execution_count": 68,
   "metadata": {},
   "outputs": [
    {
     "name": "stdout",
     "output_type": "stream",
     "text": [
      "['language', 'proj_id', 'file_id', 'file_body', 'javascript,10001,100001,\"// functions as values of a variable', 'var cube = x => math.pow(x', '3)', 'var cuberoot = x => math.pow(x', '1 / 3)', '// higher order function', 'var compose = (f', 'g) => (x => f(g(x)))', '// storing functions in a array', 'var fun = [ math.sin', 'math.cos', 'cube ]', 'var inv = [ math.asin', 'math.acos', 'cuberoot ]', 'for (var i = 0 i < 3 i++) {', '// applying the composition to 0.5', 'console.log(compose(inv[i]', 'fun[i])(0.5))', '}', 'javascript,10001,100002,// functions as values of a variable', 'var cube = function (x) {', 'return math.pow(x', '3)', '}', 'var cuberoot = function (x) {', 'return math.pow(x', '1 / 3)', '}', '// higher order function', 'var compose = function (f', 'g) {', 'return function (x) {', 'return f(g(x))', '}', '}', '// storing functions in a array', 'var fun = [math.sin', 'math.cos', 'cube]', 'var inv = [math.asin', 'math.acos', 'cuberoot]', 'for (var i = 0 i < 3 i++) {', '// applying the composition to 0.5', 'console.log(compose(inv[i]', 'fun[i])(0.5))', '}', 'javascript,10002,100003,function median(ary) {', 'if (ary.length == 0)', 'return null', 'ary.sort(function (a', 'b){return a - b})', 'var mid = math.floor(ary.length / 2)', 'if ((ary.length % 2) == 1)  // length is odd', 'return ary[mid]', 'else', 'return (ary[mid - 1] + ary[mid]) / 2', '}', 'median([])   // null', 'median([5', '3', '4])  // 4', 'median([5', '4', '2', '3])  // 3.5', 'median([3', '4', '1', '-8.4', '7.2', '4', '1', '1.2])  // 2.1', 'javascript,10002,100004,[', 'null', '4', '3.5', '2.1', ']', 'javascript,10002,100005,(() => {', \"'use strict'\", '// median :: [num] -> num', 'function median(xs) {', '// nth :: [num] -> int -> maybe num', 'let nth = (xxs', 'n) => {', 'if (xxs.length > 0) {', 'let [x', 'xs] = uncons(xxs)', '[ys', 'zs] = partition(y => y < x', 'xs)', 'k = ys.length', 'return k === n ? x : (', 'k > n ? nth(ys', 'n) : nth(zs', 'n - k - 1)', ')', '} else return undefined', '}', 'n = xs.length', 'return even(n) ? (', '(nth(xs', 'div(n', '2)) + nth(xs', 'div(n', '2) - 1)) / 2', ') : nth(xs', 'div(n', '2))', '}', '// generic', '// partition :: (a -> bool) -> [a] -> ([a]', '[a])', 'let partition = (p', 'xs) =>', 'xs.reduce((a', 'x) =>', 'p(x) ? [a[0].concat(x)', 'a[1]] : [a[0]', 'a[1].concat(x)]', '[', '[]', '[]', '])', '// uncons :: [a] -> maybe (a', '[a])', 'uncons = xs => xs.length ? [xs[0]', 'xs.slice(1)] : undefined', '// even :: integral a => a -> bool', 'even = n => n % 2 === 0', '// div :: num -> num -> int', 'div = (x', 'y) => math.floor(x / y)', 'return [', '[]', '[5', '3', '4]', '[5', '4', '2', '3]', '[3', '4', '1', '-8.4', '7.2', '4', '1', '1.2]', '].map(median)', '})()', 'javascript,10003,100006,function divbyzero(dividend,divisor)', '{', 'var quotient=dividend/divisor', 'if(isnan(quotient)) return 0 //can be changed to whatever is desired by the programmer to be 0', 'false', 'or infinity', 'return quotient //will return infinity or -infinity in cases of', 'for example', '5/0 or -7/0 respectively', '}', 'alert(divbyzero(0', '0))', 'javascript,10004,100007,if (\"\"abs\"\" in math) { ... }', 'javascript,10004,100008,if (typeof bloop !== \"\"undefined\"\") { ... }', 'javascript,10005,100009,(function () {', \"'use strict'\", '// disjointsort :: [a] -> [int] -> [a]', 'function disjointsort(xs', 'indices) {', '// sequence of indices discarded', 'var indicessorted = indices.sort()', 'subsetsorted = indicessorted', '.map(function (i) {', 'return xs[i]', '})', '.sort()', 'return xs', '.map(function (x', 'i) {', 'var iindex = indicessorted.indexof(i)', 'return iindex !== -1 ? (', 'subsetsorted[iindex]', ') : x', '})', '}', 'return disjointsort([7', '6', '5', '4', '3', '2']\n"
     ]
    }
   ],
   "source": [
    "print(cleared_rows[:200])\n",
    "\n",
    "for lang in prog_lang:\n",
    "    for row in cleared_rows:\n",
    "        if lang in row:\n",
    "            index_list.append(cleared_rows.index(row))\n",
    "            break\n",
    "print(index_list)\n",
    "            \n",
    "lang_dict = {}\n",
    "\n",
    "for lang in langs:\n",
    "    for lang_index in index_list:\n",
    "        if lang_index + 1 <= len(index_list):\n",
    "            lang_dict[lang] = cleared_rows[lang_index:(index_list[index_list.index(lang_index) + 1])]\n",
    "        else:\n",
    "            lang_dict[lang] = cleared_rows[lang_index:]\n",
    "            \n",
    "\n",
    "    \n",
    "        \n",
    "      \n",
    "        \n",
    "\n",
    "    \n",
    "\n",
    "\n",
    "        \n",
    "\n"
   ]
  },
  {
   "cell_type": "code",
   "execution_count": 69,
   "metadata": {},
   "outputs": [
    {
     "name": "stdout",
     "output_type": "stream",
     "text": [
      "19\n"
     ]
    }
   ],
   "source": [
    "print(len(lang_dict))"
   ]
  },
  {
   "cell_type": "code",
   "execution_count": null,
   "metadata": {},
   "outputs": [],
   "source": [
    "print"
   ]
  }
 ],
 "metadata": {
  "kernelspec": {
   "display_name": "Python 3",
   "language": "python",
   "name": "python3"
  },
  "language_info": {
   "codemirror_mode": {
    "name": "ipython",
    "version": 3
   },
   "file_extension": ".py",
   "mimetype": "text/x-python",
   "name": "python",
   "nbconvert_exporter": "python",
   "pygments_lexer": "ipython3",
   "version": "3.6.5"
  }
 },
 "nbformat": 4,
 "nbformat_minor": 2
}
