{
 "cells": [
  {
   "cell_type": "code",
   "execution_count": 289,
   "metadata": {},
   "outputs": [],
   "source": [
    "import csv, string, math\n",
    "from collections import Counter\n",
    "\n",
    "filename = 'data.csv'\n",
    "\n",
    "rows = []\n",
    "prog_lang_loc = ['javascript,10001','swift,10475','python,10750','java,11462','c++,12090','ruby,12631','rust,13303','c,13624','scala,14288','r,14819','go,15192','mathematica,15859','kotlin,16489','fortran,17106','julia,17565','php,18026','matlab,18380','haskell,18711','perl,19360']\n",
    "langs = ['javascript','swift','python','java','c++','ruby','rust','c','scala','r','go','mathematica','kotlin','fortran','julia','php','matlab','haskell','perl']\n",
    "index_list = []\n",
    "\n",
    "with open(filename, 'r', encoding=\"utf8\") as csvfile:\n",
    "    \n",
    "    csvreader = csv.reader(csvfile)\n",
    "    \n",
    "    for row in csvreader:\n",
    "        rows.append(row)"
   ]
  },
  {
   "cell_type": "code",
   "execution_count": 290,
   "metadata": {},
   "outputs": [],
   "source": [
    "cleared_rows = [x.replace(';', '') for row in rows for x in row] #usunięcie znaków\n",
    "cleared_rows = list(map(lambda s: s.strip(), cleared_rows)) #usunięcie znaków nowego wiersza \n",
    "cleared_rows = list(filter(None, cleared_rows)) #usunięcie pustych elementów\n",
    "cleared_rows = list(map(lambda s: s.lower(), cleared_rows)) #małe litery"
   ]
  },
  {
   "cell_type": "code",
   "execution_count": 291,
   "metadata": {},
   "outputs": [],
   "source": [
    "for lang in prog_lang_loc:\n",
    "    for row in cleared_rows:\n",
    "        if lang in row:\n",
    "            index_list.append(cleared_rows.index(row))\n",
    "            break"
   ]
  },
  {
   "cell_type": "code",
   "execution_count": 292,
   "metadata": {},
   "outputs": [],
   "source": [
    "train_dict = {} # słownik treningowy\n",
    "test_dict = {} # słownik testowy\n",
    "\n",
    "for lang in langs:\n",
    "    if langs.index(lang) < len(langs) - 1: \n",
    "        train_dict[lang] = cleared_rows[index_list[langs.index(lang)]:int(round(index_list[langs.index(lang) + 1]*0.8))]\n",
    "        test_dict[lang] = cleared_rows[int(round(index_list[langs.index(lang) + 1]*0.8)):index_list[langs.index(lang) + 1]]\n",
    "    else:\n",
    "        train_dict[lang] = cleared_rows[index_list[langs.index(lang)]:int(round(len(cleared_rows)*0.8))]\n",
    "        test_dict[lang] = cleared_rows[int(round(len(cleared_rows)*0.8)):]"
   ]
  },
  {
   "cell_type": "code",
   "execution_count": 293,
   "metadata": {},
   "outputs": [],
   "source": [
    "def clear_dict(dirty_dict,langs):\n",
    "    \n",
    "    cleared_dict = {}\n",
    "    \n",
    "    for lang in langs:\n",
    "        dirty_dict[lang] = [''.join(x for x in par if x not in string.punctuation) for par in dirty_dict[lang]]\n",
    "        dirty_dict[lang] = [element for element in lang_dict[lang] if not element.isdigit()]\n",
    "        new = []\n",
    "        for element in lang_dict[lang]:\n",
    "            for x in (element.split()):\n",
    "                new.append(x)\n",
    "\n",
    "        cleared_dict[lang] = new\n",
    "    \n",
    "    return(cleared_dict)\n",
    "\n",
    "       "
   ]
  },
  {
   "cell_type": "code",
   "execution_count": 295,
   "metadata": {},
   "outputs": [],
   "source": [
    "def code_to_dict(code):\n",
    "    pass"
   ]
  },
  {
   "cell_type": "code",
   "execution_count": 296,
   "metadata": {},
   "outputs": [
    {
     "data": {
      "text/plain": [
       "'all_words = Counter()\\n\\nfor lang in langs:\\n    for word in lang_dict_clear[lang]:\\n        all_words[word] += 1\\n        #word.isalpha() - sprawdzenie czy element składa się tylko z liter\\n        #len(word) == 1 - elementy jednoznakowe '"
      ]
     },
     "execution_count": 296,
     "metadata": {},
     "output_type": "execute_result"
    }
   ],
   "source": [
    "\"\"\"all_words = Counter()\n",
    "\n",
    "for lang in langs:\n",
    "    for word in lang_dict_clear[lang]:\n",
    "        all_words[word] += 1\n",
    "        #word.isalpha() - sprawdzenie czy element składa się tylko z liter\n",
    "        #len(word) == 1 - elementy jednoznakowe \"\"\""
   ]
  },
  {
   "cell_type": "code",
   "execution_count": 297,
   "metadata": {},
   "outputs": [],
   "source": [
    "def calc_prob(lang, code, trained_data, all_words ):\n",
    "    \n",
    "    prob = 0\n",
    "    for word in code:\n",
    "            try:\n",
    "                prob = prob + math.log(self.all_words[word]/self.trained_data[lang][word])\n",
    "            except(KeyError):\n",
    "                continue\n",
    "        \n",
    "    return(prob)"
   ]
  },
  {
   "cell_type": "code",
   "execution_count": 298,
   "metadata": {},
   "outputs": [],
   "source": [
    "def language(trained_data, all_words, code, langs):\n",
    "    \n",
    "    #code = code_to_dict(code)\n",
    "    code = clear_dict(code, langs)\n",
    "    lang_chance = {}\n",
    "    \n",
    "    for lang in langs:\n",
    "        prob = calc_prob(lang, code, trained_data, all_words )\n",
    "        lang_chance[lang] = prob\n",
    "        \n",
    "    return(\"Prawdopodobnie jest to język\" + max(lang_chacne.items(), key = lambda x: x[0]))\n",
    "        \n",
    "    "
   ]
  },
  {
   "cell_type": "code",
   "execution_count": 305,
   "metadata": {},
   "outputs": [],
   "source": [
    "#Train the model\n",
    "\n",
    "train_dict = clear_dict(train_dict,langs) #clearing train dict \n",
    "\n",
    "trained_data = {} #słownik zawierający ilości występujących słów w danym języku\n",
    "all_words = Counter() #słownik zawierający ilości ogólnie występujących słów\n",
    "\n",
    "for lang in langs:\n",
    "    trained_data[lang] = {}\n",
    "    for word in train_dict[lang]:\n",
    "        if word in trained_data[lang]:\n",
    "            trained_data[lang][word] +=1\n",
    "        else:\n",
    "            trained_data[lang][word] = 1 \n",
    "        all_words[word] += 1\n",
    "        \n",
    "        "
   ]
  },
  {
   "cell_type": "code",
   "execution_count": 306,
   "metadata": {},
   "outputs": [
    {
     "ename": "UnboundLocalError",
     "evalue": "local variable 'prob' referenced before assignment",
     "output_type": "error",
     "traceback": [
      "\u001b[1;31m---------------------------------------------------------------------------\u001b[0m",
      "\u001b[1;31mUnboundLocalError\u001b[0m                         Traceback (most recent call last)",
      "\u001b[1;32m<ipython-input-306-cd2c7a5fb65f>\u001b[0m in \u001b[0;36m<module>\u001b[1;34m()\u001b[0m\n\u001b[1;32m----> 1\u001b[1;33m \u001b[0mprint\u001b[0m\u001b[1;33m(\u001b[0m\u001b[0mlanguage\u001b[0m\u001b[1;33m(\u001b[0m\u001b[0mtrained_data\u001b[0m\u001b[1;33m,\u001b[0m\u001b[0mall_words\u001b[0m\u001b[1;33m,\u001b[0m\u001b[0mtest_dict\u001b[0m\u001b[1;33m,\u001b[0m \u001b[0mlangs\u001b[0m\u001b[1;33m)\u001b[0m\u001b[1;33m)\u001b[0m\u001b[1;33m\u001b[0m\u001b[0m\n\u001b[0m",
      "\u001b[1;32m<ipython-input-298-73fde4a73407>\u001b[0m in \u001b[0;36mlanguage\u001b[1;34m(trained_data, all_words, code, langs)\u001b[0m\n\u001b[0;32m      6\u001b[0m \u001b[1;33m\u001b[0m\u001b[0m\n\u001b[0;32m      7\u001b[0m     \u001b[1;32mfor\u001b[0m \u001b[0mlang\u001b[0m \u001b[1;32min\u001b[0m \u001b[0mlangs\u001b[0m\u001b[1;33m:\u001b[0m\u001b[1;33m\u001b[0m\u001b[0m\n\u001b[1;32m----> 8\u001b[1;33m         \u001b[0mprob\u001b[0m \u001b[1;33m=\u001b[0m \u001b[0mcalc_prob\u001b[0m\u001b[1;33m(\u001b[0m\u001b[0mlang\u001b[0m\u001b[1;33m,\u001b[0m \u001b[0mcode\u001b[0m\u001b[1;33m,\u001b[0m \u001b[0mtrained_data\u001b[0m\u001b[1;33m,\u001b[0m \u001b[0mall_words\u001b[0m \u001b[1;33m)\u001b[0m\u001b[1;33m\u001b[0m\u001b[0m\n\u001b[0m\u001b[0;32m      9\u001b[0m         \u001b[0mlang_chance\u001b[0m\u001b[1;33m[\u001b[0m\u001b[0mlang\u001b[0m\u001b[1;33m]\u001b[0m \u001b[1;33m=\u001b[0m \u001b[0mprob\u001b[0m\u001b[1;33m\u001b[0m\u001b[0m\n\u001b[0;32m     10\u001b[0m \u001b[1;33m\u001b[0m\u001b[0m\n",
      "\u001b[1;32m<ipython-input-297-6b3286eeeabb>\u001b[0m in \u001b[0;36mcalc_prob\u001b[1;34m(lang, code, trained_data, all_words)\u001b[0m\n\u001b[0;32m      4\u001b[0m     \u001b[1;32mfor\u001b[0m \u001b[0mword\u001b[0m \u001b[1;32min\u001b[0m \u001b[0mcode\u001b[0m\u001b[1;33m:\u001b[0m\u001b[1;33m\u001b[0m\u001b[0m\n\u001b[0;32m      5\u001b[0m             \u001b[1;32mtry\u001b[0m\u001b[1;33m:\u001b[0m\u001b[1;33m\u001b[0m\u001b[0m\n\u001b[1;32m----> 6\u001b[1;33m                 \u001b[0mprob\u001b[0m \u001b[1;33m=\u001b[0m \u001b[0mprob\u001b[0m \u001b[1;33m+\u001b[0m \u001b[0mmath\u001b[0m\u001b[1;33m.\u001b[0m\u001b[0mlog\u001b[0m\u001b[1;33m(\u001b[0m\u001b[0mself\u001b[0m\u001b[1;33m.\u001b[0m\u001b[0mall_words\u001b[0m\u001b[1;33m[\u001b[0m\u001b[0mword\u001b[0m\u001b[1;33m]\u001b[0m\u001b[1;33m/\u001b[0m\u001b[0mself\u001b[0m\u001b[1;33m.\u001b[0m\u001b[0mtrained_data\u001b[0m\u001b[1;33m[\u001b[0m\u001b[0mlang\u001b[0m\u001b[1;33m]\u001b[0m\u001b[1;33m[\u001b[0m\u001b[0mword\u001b[0m\u001b[1;33m]\u001b[0m\u001b[1;33m)\u001b[0m\u001b[1;33m\u001b[0m\u001b[0m\n\u001b[0m\u001b[0;32m      7\u001b[0m             \u001b[1;32mexcept\u001b[0m\u001b[1;33m(\u001b[0m\u001b[0mKeyError\u001b[0m\u001b[1;33m)\u001b[0m\u001b[1;33m:\u001b[0m\u001b[1;33m\u001b[0m\u001b[0m\n\u001b[0;32m      8\u001b[0m                 \u001b[1;32mcontinue\u001b[0m\u001b[1;33m\u001b[0m\u001b[0m\n",
      "\u001b[1;31mUnboundLocalError\u001b[0m: local variable 'prob' referenced before assignment"
     ]
    }
   ],
   "source": [
    "print(language(trained_data,all_words,test_dict, langs))"
   ]
  },
  {
   "cell_type": "code",
   "execution_count": null,
   "metadata": {},
   "outputs": [],
   "source": []
  },
  {
   "cell_type": "code",
   "execution_count": null,
   "metadata": {},
   "outputs": [],
   "source": []
  },
  {
   "cell_type": "code",
   "execution_count": null,
   "metadata": {},
   "outputs": [],
   "source": []
  },
  {
   "cell_type": "code",
   "execution_count": 182,
   "metadata": {},
   "outputs": [],
   "source": []
  },
  {
   "cell_type": "code",
   "execution_count": null,
   "metadata": {},
   "outputs": [],
   "source": []
  },
  {
   "cell_type": "code",
   "execution_count": null,
   "metadata": {},
   "outputs": [],
   "source": []
  },
  {
   "cell_type": "code",
   "execution_count": null,
   "metadata": {},
   "outputs": [],
   "source": []
  }
 ],
 "metadata": {
  "kernelspec": {
   "display_name": "Python 3",
   "language": "python",
   "name": "python3"
  },
  "language_info": {
   "codemirror_mode": {
    "name": "ipython",
    "version": 3
   },
   "file_extension": ".py",
   "mimetype": "text/x-python",
   "name": "python",
   "nbconvert_exporter": "python",
   "pygments_lexer": "ipython3",
   "version": "3.6.5"
  }
 },
 "nbformat": 4,
 "nbformat_minor": 2
}
